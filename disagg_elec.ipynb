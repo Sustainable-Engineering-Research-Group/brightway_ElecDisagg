{
 "cells": [
  {
   "cell_type": "code",
   "execution_count": 1,
   "id": "1de8da83",
   "metadata": {},
   "outputs": [],
   "source": [
    "from brightway2 import *\n",
    "import brightway2 as bw\n",
    "import bw2data as bd\n",
    "import bw2calc as bc\n",
    "import pandas as pd\n",
    "import numpy as np\n",
    "import tabulate\n",
    "import os"
   ]
  },
  {
   "cell_type": "code",
   "execution_count": 2,
   "id": "5667b4a5",
   "metadata": {},
   "outputs": [],
   "source": [
    "projects.set_current(\"ecoinvent38_import\")\n",
    "db38 = Database(\"cutoff38\")"
   ]
  },
  {
   "cell_type": "code",
   "execution_count": 3,
   "id": "71fe2836",
   "metadata": {},
   "outputs": [],
   "source": [
    "bw2setup()"
   ]
  },
  {
   "cell_type": "code",
   "execution_count": 4,
   "id": "6aa63542",
   "metadata": {},
   "outputs": [],
   "source": [
    "def print_recursive_calculation(activity, lcia_method, df_output, lca_obj=None, total_score=None, amount=1, mother='root', self='no', level=0, max_level=3, cutoff=1e-2):\n",
    "    if lca_obj is None:\n",
    "        lca_obj = bc.LCA({activity: amount}, lcia_method)\n",
    "        lca_obj.lci()\n",
    "        lca_obj.lcia()\n",
    "        total_score = lca_obj.score\n",
    "    elif total_score is None:\n",
    "        raise ValueError\n",
    "    else:\n",
    "        lca_obj.redo_lcia({activity: amount})\n",
    "        if abs(lca_obj.score) <= abs(total_score * cutoff):\n",
    "            return df_output\n",
    "        \n",
    "    d_em = lca_obj.characterized_inventory[:, lca_obj.activity_dict.get(activity.key)].sum()\n",
    "    tmp = pd.DataFrame(\n",
    "        [[level, str(activity), mother, self, lca_obj.score / total_score, lca_obj.score, d_em/total_score, d_em]], \n",
    "        columns=['level', 'process_name', 'mother_uuid', 'self_uuid', 'contri_pct', 'emission_kg', 'direct_contri_pct', 'direct_emissions_kg']\n",
    "    )\n",
    "    df_output = pd.concat([df_output, tmp], ignore_index=True)\n",
    "    \n",
    "    if level < max_level:\n",
    "        for exc in activity.technosphere():\n",
    "            df_output = print_recursive_calculation(\n",
    "                activity = exc.input,\n",
    "                lcia_method=lcia_method,\n",
    "                df_output = df_output,\n",
    "                lca_obj=lca_obj,\n",
    "                total_score=total_score,\n",
    "                amount=amount * exc['amount'],\n",
    "                mother=dict(exc)['output'][1],\n",
    "                self=dict(exc)['input'][1],\n",
    "                level=level + 1,\n",
    "                max_level=max_level, \n",
    "                cutoff=cutoff\n",
    "            )\n",
    "    \n",
    "    df_output.at[0, 'self_uuid'] = dict(activity)['code']\n",
    "    \n",
    "    return df_output"
   ]
  },
  {
   "cell_type": "code",
   "execution_count": 5,
   "id": "b0db35ef",
   "metadata": {},
   "outputs": [],
   "source": [
    "GWP_method = [m for m in bw.methods if 'TRACI' in str(m) and 'environmental impact' in str(m) and 'global warming' in str(m)][0]\n",
    "GWP_method"
   ]
  },
  {
   "cell_type": "code",
   "execution_count": 6,
   "id": "363663f7",
   "metadata": {},
   "outputs": [],
   "source": [
    "# use number to replace uuid, easy for tracking previous node\n",
    "def conver_node(df):\n",
    "    keys = list(set(df['mother_uuid'][1:].tolist()))\n",
    "    values = range(len(keys))\n",
    "    mapping = {k: v for k, v in zip(keys, values)}\n",
    "    mapping['root'] = 'root'\n",
    "    \n",
    "    ls_uuid = df['mother_uuid'].tolist()\n",
    "    converted_list = [mapping[item] for item in ls_uuid]\n",
    "    \n",
    "    return converted_list"
   ]
  },
  {
   "cell_type": "code",
   "execution_count": 7,
   "id": "4ec74b2a",
   "metadata": {},
   "outputs": [],
   "source": [
    "# for i in range(sc_lca.shape[0]):\n",
    "#     df_output = pd.DataFrame()\n",
    "#     uuid = sc_lca.at[i,'uuid']\n",
    "#     process = db38.get(uuid)\n",
    "#     df_output = print_recursive_calculation(process, GWP_method, df_output, max_level=5, cutoff=0.01)\n",
    "    \n",
    "#     df_output.to_csv(f'new_disagg_proc{i}.csv')"
   ]
  },
  {
   "cell_type": "markdown",
   "id": "48115877",
   "metadata": {},
   "source": [
    "## Example - Ammonia"
   ]
  },
  {
   "cell_type": "code",
   "execution_count": 8,
   "id": "141cfa9f",
   "metadata": {},
   "outputs": [],
   "source": [
    "NH3_output = pd.DataFrame()\n",
    "NH3 = db38.search('ammonia production, steam reforming, liquid')[1]\n",
    "NH3_id = dict(NH3)['code']\n",
    "NH3_output = print_recursive_calculation(NH3, GWP_method, NH3_output, max_level=10, cutoff=0.001)"
   ]
  }
 ],
 "metadata": {
  "@webio": {
   "lastCommId": null,
   "lastKernelId": null
  },
  "kernelspec": {
   "display_name": "bw2",
   "language": "python",
   "name": "bw2"
  },
  "language_info": {
   "codemirror_mode": {
    "name": "ipython",
    "version": 3
   },
   "file_extension": ".py",
   "mimetype": "text/x-python",
   "name": "python",
   "nbconvert_exporter": "python",
   "pygments_lexer": "ipython3",
   "version": "3.10.5"
  }
 },
 "nbformat": 4,
 "nbformat_minor": 5
}
